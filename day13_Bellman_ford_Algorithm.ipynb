{
  "nbformat": 4,
  "nbformat_minor": 0,
  "metadata": {
    "colab": {
      "provenance": [],
      "authorship_tag": "ABX9TyP2OT1wx4w9dbH/EeviFaBJ",
      "include_colab_link": true
    },
    "kernelspec": {
      "name": "python3",
      "display_name": "Python 3"
    },
    "language_info": {
      "name": "python"
    }
  },
  "cells": [
    {
      "cell_type": "markdown",
      "metadata": {
        "id": "view-in-github",
        "colab_type": "text"
      },
      "source": [
        "<a href=\"https://colab.research.google.com/github/omiipaul123/STW-2/blob/main/day13_Bellman_ford_Algorithm.ipynb\" target=\"_parent\"><img src=\"https://colab.research.google.com/assets/colab-badge.svg\" alt=\"Open In Colab\"/></a>"
      ]
    },
    {
      "cell_type": "code",
      "execution_count": null,
      "metadata": {
        "colab": {
          "base_uri": "https://localhost:8080/"
        },
        "id": "EuB6HMg4WNDV",
        "outputId": "da1f75c8-0d9b-42b2-aa3b-7a516619ee44"
      },
      "outputs": [
        {
          "output_type": "stream",
          "name": "stdout",
          "text": [
            "hello\n",
            "{'A': 0, 'B': -1, 'C': 2, 'D': -2, 'E': 1}\n"
          ]
        }
      ],
      "source": [
        "\n",
        "def bellman_ford(graph, source):\n",
        "  #step 1: Initialize distances\n",
        "  distances = {vertex:float('inf') for vertex in graph}\n",
        "  distances[source] = 0\n",
        "\n",
        "  #step 2: Relax edges |v| -1 times\n",
        "  for i in range(len(graph)-1):\n",
        "    for u in graph:\n",
        "      for v, weight in graph[u].items():\n",
        "        if distances[u] !=float('inf') and distances[u] + weight < distances[v]:\n",
        "          distances[v] = distances[u] + weight\n",
        "\n",
        "  #step 3: check for negative weight cycles\n",
        "  for u in graph:\n",
        "    for v, weight in graph[u].items():\n",
        "      if distances[u] !=float('inf') and distances[u] + weight < distances[v]:\n",
        "        raise ValueError(\"graph contains negative weight cycle\")\n",
        "  return distances\n",
        "\n",
        "#Example 1\n",
        "graph = {\n",
        "    'A':{'B':-1,'C':4},\n",
        "    'B':{'C':3,'D':2, 'E': 2},\n",
        "    'C':{},\n",
        "    'D':{'B':1,'C':5},\n",
        "    'E':{'D':-3}\n",
        "}\n",
        "#\n",
        "source = 'A'\n",
        "\n",
        "print(\"hello\")\n",
        "print(bellman_ford(graph, source))\n"
      ]
    }
  ]
}